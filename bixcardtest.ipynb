{
 "cells": [
  {
   "cell_type": "code",
   "execution_count": 8,
   "metadata": {},
   "outputs": [],
   "source": [
    "import streamlit as st\n",
    "#import easyocr as ocr\n",
    "import mysql.connector as mysql"
   ]
  },
  {
   "cell_type": "code",
   "execution_count": 10,
   "metadata": {},
   "outputs": [],
   "source": [
    "mydb = mysql.connect(\n",
    "        host = \"localhost\",\n",
    "        user = \"root\",\n",
    "        password = \"mysql\",\n",
    "        database = \"bizcard\",\n",
    "        port = \"3306\"\n",
    "    )\n",
    "\n",
    "cursor =mydb.cursor()"
   ]
  },
  {
   "cell_type": "code",
   "execution_count": 11,
   "metadata": {},
   "outputs": [],
   "source": [
    "# extract the data\n",
    "#result = []\n",
    "def extracted_text(picture):\n",
    "    ext_dic = {'Name': [], 'Designation': [], 'Company name': [], 'Contact': [], 'Email': [], 'Website': [],\n",
    "               'Address': [], 'Pincode': []}\n",
    "\n",
    "    ext_dic['Name'].append(result[0])\n",
    "    ext_dic['Designation'].append(result[1])\n",
    "\n",
    "    for m in range(2, len(result)):\n",
    "        if result[m].startswith('+') or (result[m].replace('-', '').isdigit() and '-' in result[m]):\n",
    "            ext_dic['Contact'].append(result[m])\n",
    "\n",
    "        elif '@' in result[m] and '.com' in result[m]:\n",
    "            small = result[m].lower()\n",
    "            ext_dic['Email'].append(small)\n",
    "\n",
    "        elif 'www' in result[m] or 'WWW' in result[m] or 'wwW' in result[m]:\n",
    "            small = result[m].lower()\n",
    "            ext_dic['Website'].append(small)\n",
    "\n",
    "        elif 'TamilNadu' in result[m] or 'Tamil Nadu' in result[m] or result[m].isdigit():\n",
    "            ext_dic['Pincode'].append(result[m])\n",
    "\n",
    "        elif re.match(r'^[A-Za-z]', result[m]):\n",
    "            ext_dic['Company name'].append(result[m])\n",
    "\n",
    "        else:\n",
    "            removed_colon = re.sub(r'[,;]', '', result[m])\n",
    "            ext_dic['Address'].append(removed_colon)\n",
    "\n",
    "    for key, value in ext_dic.items():\n",
    "        if len(value) > 0:\n",
    "            concatenated_string = ' '.join(value)\n",
    "            ext_dic[key] = [concatenated_string]\n",
    "        else:\n",
    "            value = 'NA'\n",
    "            ext_dic[key] = [value]\n",
    "\n",
    "    return ext_dic\n",
    "\n"
   ]
  }
 ],
 "metadata": {
  "kernelspec": {
   "display_name": "Python 3",
   "language": "python",
   "name": "python3"
  },
  "language_info": {
   "codemirror_mode": {
    "name": "ipython",
    "version": 3
   },
   "file_extension": ".py",
   "mimetype": "text/x-python",
   "name": "python",
   "nbconvert_exporter": "python",
   "pygments_lexer": "ipython3",
   "version": "3.9.18"
  }
 },
 "nbformat": 4,
 "nbformat_minor": 2
}
